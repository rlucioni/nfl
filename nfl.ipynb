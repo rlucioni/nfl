{
 "cells": [
  {
   "cell_type": "code",
   "execution_count": 39,
   "metadata": {},
   "outputs": [
    {
     "data": {
      "application/javascript": [
       "IPython.notebook.set_autosave_interval(0)"
      ]
     },
     "metadata": {},
     "output_type": "display_data"
    },
    {
     "name": "stdout",
     "output_type": "stream",
     "text": [
      "Autosave disabled\n"
     ]
    }
   ],
   "source": [
    "%autosave 0"
   ]
  },
  {
   "cell_type": "code",
   "execution_count": 40,
   "metadata": {},
   "outputs": [],
   "source": [
    "import numpy as np\n",
    "import pandas as pd\n",
    "import matplotlib.pyplot as plt\n",
    "import seaborn as sns"
   ]
  },
  {
   "cell_type": "code",
   "execution_count": 41,
   "metadata": {},
   "outputs": [],
   "source": [
    "pd.set_option('display.max_columns', 100)\n",
    "sns.set(style='darkgrid')"
   ]
  },
  {
   "cell_type": "code",
   "execution_count": 42,
   "metadata": {},
   "outputs": [],
   "source": [
    "# pandas reads empty csv columns (',,') as 'Unnamed N' where N is the column number\n",
    "def is_named(row):\n",
    "    return not row.lower().startswith('unnamed')"
   ]
  },
  {
   "cell_type": "code",
   "execution_count": 43,
   "metadata": {},
   "outputs": [],
   "source": [
    "def lower(element):\n",
    "    return element.lower() if type(element) == str else element"
   ]
  },
  {
   "cell_type": "code",
   "execution_count": 44,
   "metadata": {},
   "outputs": [],
   "source": [
    "def load(csv_path):\n",
    "    df = pd.read_csv(csv_path, usecols=is_named)\n",
    "    df.columns = df.columns.str.lower()\n",
    "    df = df.applymap(lower)\n",
    "\n",
    "    return df"
   ]
  },
  {
   "cell_type": "code",
   "execution_count": 45,
   "metadata": {},
   "outputs": [
    {
     "data": {
      "text/html": [
       "<div>\n",
       "<style scoped>\n",
       "    .dataframe tbody tr th:only-of-type {\n",
       "        vertical-align: middle;\n",
       "    }\n",
       "\n",
       "    .dataframe tbody tr th {\n",
       "        vertical-align: top;\n",
       "    }\n",
       "\n",
       "    .dataframe thead th {\n",
       "        text-align: right;\n",
       "    }\n",
       "</style>\n",
       "<table border=\"1\" class=\"dataframe\">\n",
       "  <thead>\n",
       "    <tr style=\"text-align: right;\">\n",
       "      <th></th>\n",
       "      <th>gameid</th>\n",
       "      <th>gamedate</th>\n",
       "      <th>quarter</th>\n",
       "      <th>minute</th>\n",
       "      <th>second</th>\n",
       "      <th>offenseteam</th>\n",
       "      <th>defenseteam</th>\n",
       "      <th>down</th>\n",
       "      <th>togo</th>\n",
       "      <th>yardline</th>\n",
       "      <th>seriesfirstdown</th>\n",
       "      <th>nextscore</th>\n",
       "      <th>description</th>\n",
       "      <th>teamwin</th>\n",
       "      <th>seasonyear</th>\n",
       "      <th>yards</th>\n",
       "      <th>formation</th>\n",
       "      <th>playtype</th>\n",
       "      <th>isrush</th>\n",
       "      <th>ispass</th>\n",
       "      <th>isincomplete</th>\n",
       "      <th>istouchdown</th>\n",
       "      <th>passtype</th>\n",
       "      <th>issack</th>\n",
       "      <th>ischallenge</th>\n",
       "      <th>ischallengereversed</th>\n",
       "      <th>challenger</th>\n",
       "      <th>ismeasurement</th>\n",
       "      <th>isinterception</th>\n",
       "      <th>isfumble</th>\n",
       "      <th>ispenalty</th>\n",
       "      <th>istwopointconversion</th>\n",
       "      <th>istwopointconversionsuccessful</th>\n",
       "      <th>rushdirection</th>\n",
       "      <th>yardlinefixed</th>\n",
       "      <th>yardlinedirection</th>\n",
       "      <th>ispenaltyaccepted</th>\n",
       "      <th>penaltyteam</th>\n",
       "      <th>isnoplay</th>\n",
       "      <th>penaltytype</th>\n",
       "      <th>penaltyyards</th>\n",
       "    </tr>\n",
       "  </thead>\n",
       "  <tbody>\n",
       "    <tr>\n",
       "      <th>0</th>\n",
       "      <td>2018092400</td>\n",
       "      <td>2018-09-24</td>\n",
       "      <td>1</td>\n",
       "      <td>0</td>\n",
       "      <td>45</td>\n",
       "      <td>pit</td>\n",
       "      <td>tb</td>\n",
       "      <td>1</td>\n",
       "      <td>10</td>\n",
       "      <td>66</td>\n",
       "      <td>0</td>\n",
       "      <td>0</td>\n",
       "      <td>(:45) 22-s.ridley right tackle to tb 28 for 6 ...</td>\n",
       "      <td>0</td>\n",
       "      <td>2018</td>\n",
       "      <td>6</td>\n",
       "      <td>under center</td>\n",
       "      <td>rush</td>\n",
       "      <td>1</td>\n",
       "      <td>0</td>\n",
       "      <td>0</td>\n",
       "      <td>0</td>\n",
       "      <td>NaN</td>\n",
       "      <td>0</td>\n",
       "      <td>0</td>\n",
       "      <td>0</td>\n",
       "      <td>NaN</td>\n",
       "      <td>0</td>\n",
       "      <td>0</td>\n",
       "      <td>0</td>\n",
       "      <td>0</td>\n",
       "      <td>0</td>\n",
       "      <td>0</td>\n",
       "      <td>right tackle</td>\n",
       "      <td>34</td>\n",
       "      <td>opp</td>\n",
       "      <td>0</td>\n",
       "      <td>NaN</td>\n",
       "      <td>0</td>\n",
       "      <td>NaN</td>\n",
       "      <td>0</td>\n",
       "    </tr>\n",
       "    <tr>\n",
       "      <th>1</th>\n",
       "      <td>2018092400</td>\n",
       "      <td>2018-09-24</td>\n",
       "      <td>1</td>\n",
       "      <td>2</td>\n",
       "      <td>10</td>\n",
       "      <td>tb</td>\n",
       "      <td>pit</td>\n",
       "      <td>4</td>\n",
       "      <td>17</td>\n",
       "      <td>64</td>\n",
       "      <td>0</td>\n",
       "      <td>0</td>\n",
       "      <td>(2:10) 9-b.anger punts 28 yards to pit 8, cent...</td>\n",
       "      <td>0</td>\n",
       "      <td>2018</td>\n",
       "      <td>0</td>\n",
       "      <td>punt</td>\n",
       "      <td>punt</td>\n",
       "      <td>0</td>\n",
       "      <td>0</td>\n",
       "      <td>0</td>\n",
       "      <td>0</td>\n",
       "      <td>NaN</td>\n",
       "      <td>0</td>\n",
       "      <td>0</td>\n",
       "      <td>0</td>\n",
       "      <td>NaN</td>\n",
       "      <td>0</td>\n",
       "      <td>0</td>\n",
       "      <td>0</td>\n",
       "      <td>0</td>\n",
       "      <td>0</td>\n",
       "      <td>0</td>\n",
       "      <td>NaN</td>\n",
       "      <td>36</td>\n",
       "      <td>opp</td>\n",
       "      <td>0</td>\n",
       "      <td>NaN</td>\n",
       "      <td>0</td>\n",
       "      <td>NaN</td>\n",
       "      <td>0</td>\n",
       "    </tr>\n",
       "    <tr>\n",
       "      <th>2</th>\n",
       "      <td>2018092400</td>\n",
       "      <td>2018-09-24</td>\n",
       "      <td>1</td>\n",
       "      <td>2</td>\n",
       "      <td>48</td>\n",
       "      <td>tb</td>\n",
       "      <td>pit</td>\n",
       "      <td>3</td>\n",
       "      <td>8</td>\n",
       "      <td>73</td>\n",
       "      <td>0</td>\n",
       "      <td>0</td>\n",
       "      <td>(2:48) (shotgun) 14-r.fitzpatrick sacked at pi...</td>\n",
       "      <td>0</td>\n",
       "      <td>2018</td>\n",
       "      <td>-9</td>\n",
       "      <td>shotgun</td>\n",
       "      <td>sack</td>\n",
       "      <td>0</td>\n",
       "      <td>0</td>\n",
       "      <td>0</td>\n",
       "      <td>0</td>\n",
       "      <td>NaN</td>\n",
       "      <td>1</td>\n",
       "      <td>0</td>\n",
       "      <td>0</td>\n",
       "      <td>NaN</td>\n",
       "      <td>0</td>\n",
       "      <td>0</td>\n",
       "      <td>0</td>\n",
       "      <td>0</td>\n",
       "      <td>0</td>\n",
       "      <td>0</td>\n",
       "      <td>NaN</td>\n",
       "      <td>27</td>\n",
       "      <td>opp</td>\n",
       "      <td>0</td>\n",
       "      <td>NaN</td>\n",
       "      <td>0</td>\n",
       "      <td>NaN</td>\n",
       "      <td>0</td>\n",
       "    </tr>\n",
       "    <tr>\n",
       "      <th>3</th>\n",
       "      <td>2018092400</td>\n",
       "      <td>2018-09-24</td>\n",
       "      <td>1</td>\n",
       "      <td>2</td>\n",
       "      <td>53</td>\n",
       "      <td>tb</td>\n",
       "      <td>pit</td>\n",
       "      <td>2</td>\n",
       "      <td>8</td>\n",
       "      <td>73</td>\n",
       "      <td>0</td>\n",
       "      <td>0</td>\n",
       "      <td>(2:53) (shotgun) 14-r.fitzpatrick pass incompl...</td>\n",
       "      <td>0</td>\n",
       "      <td>2018</td>\n",
       "      <td>0</td>\n",
       "      <td>shotgun</td>\n",
       "      <td>pass</td>\n",
       "      <td>0</td>\n",
       "      <td>1</td>\n",
       "      <td>1</td>\n",
       "      <td>0</td>\n",
       "      <td>short middle</td>\n",
       "      <td>0</td>\n",
       "      <td>0</td>\n",
       "      <td>0</td>\n",
       "      <td>NaN</td>\n",
       "      <td>0</td>\n",
       "      <td>0</td>\n",
       "      <td>0</td>\n",
       "      <td>0</td>\n",
       "      <td>0</td>\n",
       "      <td>0</td>\n",
       "      <td>NaN</td>\n",
       "      <td>27</td>\n",
       "      <td>opp</td>\n",
       "      <td>0</td>\n",
       "      <td>NaN</td>\n",
       "      <td>0</td>\n",
       "      <td>NaN</td>\n",
       "      <td>0</td>\n",
       "    </tr>\n",
       "    <tr>\n",
       "      <th>4</th>\n",
       "      <td>2018092400</td>\n",
       "      <td>2018-09-24</td>\n",
       "      <td>1</td>\n",
       "      <td>3</td>\n",
       "      <td>32</td>\n",
       "      <td>tb</td>\n",
       "      <td>pit</td>\n",
       "      <td>1</td>\n",
       "      <td>10</td>\n",
       "      <td>71</td>\n",
       "      <td>0</td>\n",
       "      <td>0</td>\n",
       "      <td>(3:32) (shotgun) 25-p.barber up the middle to ...</td>\n",
       "      <td>0</td>\n",
       "      <td>2018</td>\n",
       "      <td>2</td>\n",
       "      <td>shotgun</td>\n",
       "      <td>rush</td>\n",
       "      <td>1</td>\n",
       "      <td>0</td>\n",
       "      <td>0</td>\n",
       "      <td>0</td>\n",
       "      <td>NaN</td>\n",
       "      <td>0</td>\n",
       "      <td>0</td>\n",
       "      <td>0</td>\n",
       "      <td>NaN</td>\n",
       "      <td>0</td>\n",
       "      <td>0</td>\n",
       "      <td>0</td>\n",
       "      <td>0</td>\n",
       "      <td>0</td>\n",
       "      <td>0</td>\n",
       "      <td>center</td>\n",
       "      <td>29</td>\n",
       "      <td>opp</td>\n",
       "      <td>0</td>\n",
       "      <td>NaN</td>\n",
       "      <td>0</td>\n",
       "      <td>NaN</td>\n",
       "      <td>0</td>\n",
       "    </tr>\n",
       "  </tbody>\n",
       "</table>\n",
       "</div>"
      ],
      "text/plain": [
       "       gameid    gamedate  quarter  minute  second offenseteam defenseteam  \\\n",
       "0  2018092400  2018-09-24        1       0      45         pit          tb   \n",
       "1  2018092400  2018-09-24        1       2      10          tb         pit   \n",
       "2  2018092400  2018-09-24        1       2      48          tb         pit   \n",
       "3  2018092400  2018-09-24        1       2      53          tb         pit   \n",
       "4  2018092400  2018-09-24        1       3      32          tb         pit   \n",
       "\n",
       "   down  togo  yardline  seriesfirstdown  nextscore  \\\n",
       "0     1    10        66                0          0   \n",
       "1     4    17        64                0          0   \n",
       "2     3     8        73                0          0   \n",
       "3     2     8        73                0          0   \n",
       "4     1    10        71                0          0   \n",
       "\n",
       "                                         description  teamwin  seasonyear  \\\n",
       "0  (:45) 22-s.ridley right tackle to tb 28 for 6 ...        0        2018   \n",
       "1  (2:10) 9-b.anger punts 28 yards to pit 8, cent...        0        2018   \n",
       "2  (2:48) (shotgun) 14-r.fitzpatrick sacked at pi...        0        2018   \n",
       "3  (2:53) (shotgun) 14-r.fitzpatrick pass incompl...        0        2018   \n",
       "4  (3:32) (shotgun) 25-p.barber up the middle to ...        0        2018   \n",
       "\n",
       "   yards     formation playtype  isrush  ispass  isincomplete  istouchdown  \\\n",
       "0      6  under center     rush       1       0             0            0   \n",
       "1      0          punt     punt       0       0             0            0   \n",
       "2     -9       shotgun     sack       0       0             0            0   \n",
       "3      0       shotgun     pass       0       1             1            0   \n",
       "4      2       shotgun     rush       1       0             0            0   \n",
       "\n",
       "       passtype  issack  ischallenge  ischallengereversed  challenger  \\\n",
       "0           NaN       0            0                    0         NaN   \n",
       "1           NaN       0            0                    0         NaN   \n",
       "2           NaN       1            0                    0         NaN   \n",
       "3  short middle       0            0                    0         NaN   \n",
       "4           NaN       0            0                    0         NaN   \n",
       "\n",
       "   ismeasurement  isinterception  isfumble  ispenalty  istwopointconversion  \\\n",
       "0              0               0         0          0                     0   \n",
       "1              0               0         0          0                     0   \n",
       "2              0               0         0          0                     0   \n",
       "3              0               0         0          0                     0   \n",
       "4              0               0         0          0                     0   \n",
       "\n",
       "   istwopointconversionsuccessful rushdirection  yardlinefixed  \\\n",
       "0                               0  right tackle             34   \n",
       "1                               0           NaN             36   \n",
       "2                               0           NaN             27   \n",
       "3                               0           NaN             27   \n",
       "4                               0        center             29   \n",
       "\n",
       "  yardlinedirection  ispenaltyaccepted penaltyteam  isnoplay penaltytype  \\\n",
       "0               opp                  0         NaN         0         NaN   \n",
       "1               opp                  0         NaN         0         NaN   \n",
       "2               opp                  0         NaN         0         NaN   \n",
       "3               opp                  0         NaN         0         NaN   \n",
       "4               opp                  0         NaN         0         NaN   \n",
       "\n",
       "   penaltyyards  \n",
       "0             0  \n",
       "1             0  \n",
       "2             0  \n",
       "3             0  \n",
       "4             0  "
      ]
     },
     "execution_count": 45,
     "metadata": {},
     "output_type": "execute_result"
    }
   ],
   "source": [
    "df = load('data/2018.csv')\n",
    "df.head()"
   ]
  },
  {
   "cell_type": "code",
   "execution_count": 46,
   "metadata": {},
   "outputs": [
    {
     "data": {
      "text/plain": [
       "48"
      ]
     },
     "execution_count": 46,
     "metadata": {},
     "output_type": "execute_result"
    }
   ],
   "source": [
    "df.gameid.nunique()"
   ]
  },
  {
   "cell_type": "code",
   "execution_count": 47,
   "metadata": {},
   "outputs": [
    {
     "data": {
      "text/plain": [
       "8676"
      ]
     },
     "execution_count": 47,
     "metadata": {},
     "output_type": "execute_result"
    }
   ],
   "source": [
    "len(df)"
   ]
  },
  {
   "cell_type": "code",
   "execution_count": 48,
   "metadata": {},
   "outputs": [
    {
     "data": {
      "text/plain": [
       "pass                    3627\n",
       "rush                    2259\n",
       "kick off                 497\n",
       "punt                     468\n",
       "timeout                  394\n",
       "sack                     264\n",
       "extra point              232\n",
       "field goal               176\n",
       "no play                  170\n",
       "scramble                 156\n",
       "qb kneel                  63\n",
       "two-point conversion      24\n",
       "fumbles                   20\n",
       "clock stop                19\n",
       "exception                 12\n",
       "penalty                    2\n",
       "Name: playtype, dtype: int64"
      ]
     },
     "execution_count": 48,
     "metadata": {},
     "output_type": "execute_result"
    }
   ],
   "source": [
    "df.playtype.value_counts()"
   ]
  },
  {
   "cell_type": "code",
   "execution_count": 49,
   "metadata": {},
   "outputs": [
    {
     "data": {
      "text/plain": [
       "shotgun              3723\n",
       "under center         3555\n",
       "no huddle shotgun     477\n",
       "punt                  452\n",
       "field goal            176\n",
       "no huddle             146\n",
       "Name: formation, dtype: int64"
      ]
     },
     "execution_count": 49,
     "metadata": {},
     "output_type": "execute_result"
    }
   ],
   "source": [
    "df.formation.value_counts()"
   ]
  },
  {
   "cell_type": "code",
   "execution_count": 50,
   "metadata": {},
   "outputs": [
    {
     "data": {
      "text/plain": [
       "2415"
      ]
     },
     "execution_count": 50,
     "metadata": {},
     "output_type": "execute_result"
    }
   ],
   "source": [
    "len(df[df.isrush == True])"
   ]
  },
  {
   "cell_type": "code",
   "execution_count": 51,
   "metadata": {},
   "outputs": [
    {
     "data": {
      "text/plain": [
       "center          675\n",
       "left end        303\n",
       "right guard     273\n",
       "left tackle     269\n",
       "left guard      250\n",
       "right end       245\n",
       "right tackle    244\n",
       "Name: rushdirection, dtype: int64"
      ]
     },
     "execution_count": 51,
     "metadata": {},
     "output_type": "execute_result"
    }
   ],
   "source": [
    "df.rushdirection.value_counts()"
   ]
  },
  {
   "cell_type": "code",
   "execution_count": 52,
   "metadata": {},
   "outputs": [
    {
     "data": {
      "text/plain": [
       "3627"
      ]
     },
     "execution_count": 52,
     "metadata": {},
     "output_type": "execute_result"
    }
   ],
   "source": [
    "len(df[df.ispass == True])"
   ]
  },
  {
   "cell_type": "code",
   "execution_count": 53,
   "metadata": {},
   "outputs": [
    {
     "data": {
      "text/plain": [
       "short right       1152\n",
       "short left        1083\n",
       "short middle       716\n",
       "deep right         270\n",
       "deep left          256\n",
       "deep middle        148\n",
       "intercepted by       1\n",
       "Name: passtype, dtype: int64"
      ]
     },
     "execution_count": 53,
     "metadata": {},
     "output_type": "execute_result"
    }
   ],
   "source": [
    "df.passtype.value_counts()"
   ]
  },
  {
   "cell_type": "code",
   "execution_count": 54,
   "metadata": {},
   "outputs": [
    {
     "data": {
      "text/plain": [
       "279"
      ]
     },
     "execution_count": 54,
     "metadata": {},
     "output_type": "execute_result"
    }
   ],
   "source": [
    "len(df[df.istouchdown == True])"
   ]
  },
  {
   "cell_type": "code",
   "execution_count": 55,
   "metadata": {},
   "outputs": [
    {
     "data": {
      "text/plain": [
       "176"
      ]
     },
     "execution_count": 55,
     "metadata": {},
     "output_type": "execute_result"
    }
   ],
   "source": [
    "len(df[df.playtype == 'field goal'])"
   ]
  },
  {
   "cell_type": "code",
   "execution_count": 56,
   "metadata": {},
   "outputs": [
    {
     "data": {
      "text/plain": [
       "93"
      ]
     },
     "execution_count": 56,
     "metadata": {},
     "output_type": "execute_result"
    }
   ],
   "source": [
    "len(df[df.isinterception == True])"
   ]
  },
  {
   "cell_type": "code",
   "execution_count": 57,
   "metadata": {},
   "outputs": [
    {
     "data": {
      "text/plain": [
       "128"
      ]
     },
     "execution_count": 57,
     "metadata": {},
     "output_type": "execute_result"
    }
   ],
   "source": [
    "len(df[df.isfumble == True])"
   ]
  },
  {
   "cell_type": "code",
   "execution_count": 58,
   "metadata": {},
   "outputs": [
    {
     "data": {
      "text/plain": [
       "264"
      ]
     },
     "execution_count": 58,
     "metadata": {},
     "output_type": "execute_result"
    }
   ],
   "source": [
    "len(df[df.issack == True])"
   ]
  },
  {
   "cell_type": "code",
   "execution_count": 59,
   "metadata": {},
   "outputs": [
    {
     "data": {
      "text/plain": [
       "783"
      ]
     },
     "execution_count": 59,
     "metadata": {},
     "output_type": "execute_result"
    }
   ],
   "source": [
    "len(df[df.ispenalty == True])"
   ]
  },
  {
   "cell_type": "code",
   "execution_count": 60,
   "metadata": {},
   "outputs": [
    {
     "data": {
      "text/plain": [
       "bal    294\n",
       "pit    287\n",
       "cle    282\n",
       "phi    280\n",
       "det    266\n",
       "was    265\n",
       "no     260\n",
       "gb     260\n",
       "la     257\n",
       "hou    257\n",
       "chi    257\n",
       "oak    257\n",
       "den    254\n",
       "min    253\n",
       "tb     251\n",
       "car    250\n",
       "atl    248\n",
       "kc     248\n",
       "ind    247\n",
       "nyg    246\n",
       "buf    246\n",
       "cin    246\n",
       "sf     245\n",
       "sea    243\n",
       "nyj    242\n",
       "ten    239\n",
       "jax    237\n",
       "lac    234\n",
       "ne     226\n",
       "dal    218\n",
       "mia    214\n",
       "ari    180\n",
       "Name: offenseteam, dtype: int64"
      ]
     },
     "execution_count": 60,
     "metadata": {},
     "output_type": "execute_result"
    }
   ],
   "source": [
    "df.offenseteam.value_counts()"
   ]
  },
  {
   "cell_type": "code",
   "execution_count": 61,
   "metadata": {},
   "outputs": [
    {
     "data": {
      "text/plain": [
       "pit    313\n",
       "sf     304\n",
       "kc     303\n",
       "cin    303\n",
       "ne     292\n",
       "min    288\n",
       "ind    288\n",
       "dal    287\n",
       "atl    286\n",
       "ari    281\n",
       "buf    280\n",
       "sea    278\n",
       "hou    277\n",
       "bal    276\n",
       "lac    275\n",
       "nyj    275\n",
       "cle    274\n",
       "tb     272\n",
       "mia    270\n",
       "gb     268\n",
       "ten    264\n",
       "no     263\n",
       "den    261\n",
       "nyg    257\n",
       "phi    254\n",
       "jax    253\n",
       "chi    252\n",
       "oak    250\n",
       "car    241\n",
       "det    238\n",
       "was    231\n",
       "la     222\n",
       "Name: defenseteam, dtype: int64"
      ]
     },
     "execution_count": 61,
     "metadata": {},
     "output_type": "execute_result"
    }
   ],
   "source": [
    "df.defenseteam.value_counts()"
   ]
  },
  {
   "cell_type": "code",
   "execution_count": 62,
   "metadata": {},
   "outputs": [
    {
     "data": {
      "text/plain": [
       "32"
      ]
     },
     "execution_count": 62,
     "metadata": {},
     "output_type": "execute_result"
    }
   ],
   "source": [
    "len(df.defenseteam.value_counts())"
   ]
  },
  {
   "cell_type": "code",
   "execution_count": 73,
   "metadata": {},
   "outputs": [
    {
     "data": {
      "text/plain": [
       "<matplotlib.axes._subplots.AxesSubplot at 0x1259a02b0>"
      ]
     },
     "execution_count": 73,
     "metadata": {},
     "output_type": "execute_result"
    },
    {
     "data": {
      "image/png": "[encoded data removed]",
      "text/plain": [
       "<Figure size 864x432 with 1 Axes>"
      ]
     },
     "metadata": {},
     "output_type": "display_data"
    }
   ],
   "source": [
    "f, ax = plt.subplots(figsize=(12, 6))\n",
    "td_df = df[df.istouchdown == True]\n",
    "sns.countplot(x='offenseteam', data=td_df, order=td_df.offenseteam.value_counts().index, color='b')"
   ]
  },
  {
   "cell_type": "code",
   "execution_count": null,
   "metadata": {},
   "outputs": [],
   "source": []
  }
 ],
 "metadata": {
  "jupytext_formats": "ipynb,py",
  "kernelspec": {
   "display_name": "Python 3",
   "language": "python",
   "name": "python3"
  },
  "language_info": {
   "codemirror_mode": {
    "name": "ipython",
    "version": 3
   },
   "file_extension": ".py",
   "mimetype": "text/x-python",
   "name": "python",
   "nbconvert_exporter": "python",
   "pygments_lexer": "ipython3",
   "version": "3.6.5"
  }
 },
 "nbformat": 4,
 "nbformat_minor": 2
}
